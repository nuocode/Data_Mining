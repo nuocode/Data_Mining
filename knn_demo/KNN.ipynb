{
 "cells": [
  {
   "cell_type": "code",
   "execution_count": 2,
   "metadata": {},
   "outputs": [],
   "source": [
    "import numpy as np\n",
    "import operator"
   ]
  },
  {
   "cell_type": "code",
   "execution_count": 1,
   "metadata": {},
   "outputs": [],
   "source": [
    "# create a dataset which contains 4 samples with 2 classes\n",
    "def createDataSet():\n",
    "    # create a matrix: each row as a sample\n",
    "    group = array[[1,9],\n",
    "                  [1,1],\n",
    "                  [0.1,0.2],\n",
    "                  [0,0.1]]\n",
    "    labels = [\"A\",\"A\",\"B\",\"B\"]\n",
    "    return group, labels"
   ]
  },
  {
   "cell_type": "code",
   "execution_count": 7,
   "metadata": {},
   "outputs": [],
   "source": [
    "# classify using KNN\n",
    "def kNNClassify(newInput, dataSet, labels, k):\n",
    "    numSamples = dataSet.shape[0] # shape[0] stands for the num of rows\n",
    "    \n",
    "    # step 1: calculate Euclidean distance\n",
    "    # tile(A,reps): construct an array by repeating A reps times\n",
    "    # the following copy numSampes rows for dataset\n",
    "    diff = tile(newInput, (numSamples,1))-dataset\n",
    "    squaredDiff = diff ** 2 \n",
    "    squaredDist = sum(squaredDiff, axis=1)\n",
    "    distance = squaredDist ** 0.5 # obtain square root\n",
    "    \n",
    "    # step 2: sort the distance\n",
    "    # argsort() returns the indices that would sort an array in a ascending order\n",
    "    sortedDistIndices = argsort(distance)\n",
    "    \n",
    "    classCount={} # define a dictionary (can be append element)\n",
    "    for i in xrange(k):\n",
    "        # step 3: choose the min k distance\n",
    "        voteLabel = labels[sortedDistIndices[i]]\n",
    "        \n",
    "        # step 4: count the times labels occur\n",
    "        # when the key voteLabel is not in dictionary classCount.get() will return 0\n",
    "        classCount[voteLabel] = classCount.get(voteLabel,0) +  1\n",
    "        \n",
    "    # step 5: the max voted class will return\n",
    "    maxCount = 0\n",
    "    for key, value in classCount.items():\n",
    "        if value > maxCount:\n",
    "            maxCount = value\n",
    "            maxIndex = key\n",
    "            \n",
    "    return maxIndex\n",
    "      "
   ]
  },
  {
   "cell_type": "code",
   "execution_count": 6,
   "metadata": {},
   "outputs": [
    {
     "name": "stdout",
     "output_type": "stream",
     "text": [
      "Object `tile` not found.\n"
     ]
    }
   ],
   "source": []
  },
  {
   "cell_type": "code",
   "execution_count": null,
   "metadata": {},
   "outputs": [],
   "source": []
  },
  {
   "cell_type": "code",
   "execution_count": null,
   "metadata": {},
   "outputs": [],
   "source": []
  }
 ],
 "metadata": {
  "kernelspec": {
   "display_name": "Python 3",
   "language": "python",
   "name": "python3"
  },
  "language_info": {
   "codemirror_mode": {
    "name": "ipython",
    "version": 3
   },
   "file_extension": ".py",
   "mimetype": "text/x-python",
   "name": "python",
   "nbconvert_exporter": "python",
   "pygments_lexer": "ipython3",
   "version": "3.6.8"
  }
 },
 "nbformat": 4,
 "nbformat_minor": 2
}
